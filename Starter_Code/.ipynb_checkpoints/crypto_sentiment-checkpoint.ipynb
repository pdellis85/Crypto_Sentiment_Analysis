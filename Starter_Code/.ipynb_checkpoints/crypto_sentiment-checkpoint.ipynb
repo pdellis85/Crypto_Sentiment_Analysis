{
 "cells": [
  {
   "cell_type": "markdown",
   "metadata": {},
   "source": [
    "# Unit 12 - Tales from the Crypto\n",
    "\n",
    "---\n"
   ]
  },
  {
   "cell_type": "markdown",
   "metadata": {},
   "source": [
    "## 1. Sentiment Analysis\n",
    "\n",
    "Use the [newsapi](https://newsapi.org/) to pull the latest news articles for Bitcoin and Ethereum and create a DataFrame of sentiment scores for each coin.\n",
    "\n",
    "Use descriptive statistics to answer the following questions:\n",
    "1. Which coin had the highest mean positive score?\n",
    "2. Which coin had the highest negative score?\n",
    "3. Which coin had the highest positive score?"
   ]
  },
  {
   "cell_type": "code",
   "execution_count": 1,
   "metadata": {},
   "outputs": [
    {
     "name": "stderr",
     "output_type": "stream",
     "text": [
      "[nltk_data] Downloading package vader_lexicon to\n",
      "[nltk_data]     /Users/porsheaellis/nltk_data...\n",
      "[nltk_data]   Package vader_lexicon is already up-to-date!\n"
     ]
    }
   ],
   "source": [
    "# Initial imports\n",
    "import os\n",
    "import pandas as pd\n",
    "from dotenv import load_dotenv\n",
    "import nltk as nltk\n",
    "nltk.download('vader_lexicon')\n",
    "from nltk.sentiment.vader import SentimentIntensityAnalyzer\n",
    "analyzer = SentimentIntensityAnalyzer()\n",
    "from newsapi import NewsApiClient\n",
    "\n",
    "%matplotlib inline"
   ]
  },
  {
   "cell_type": "code",
   "execution_count": 2,
   "metadata": {},
   "outputs": [
    {
     "data": {
      "text/plain": [
       "True"
      ]
     },
     "execution_count": 2,
     "metadata": {},
     "output_type": "execute_result"
    }
   ],
   "source": [
    "load_dotenv()"
   ]
  },
  {
   "cell_type": "code",
   "execution_count": 3,
   "metadata": {},
   "outputs": [],
   "source": [
    "# Read your api key environment variable\n",
    "api_key = os.getenv(\"NEWS_API\")"
   ]
  },
  {
   "cell_type": "code",
   "execution_count": 4,
   "metadata": {},
   "outputs": [],
   "source": [
    "# Create a newsapi client\n",
    "newsapi = NewsApiClient(api_key=api_key)"
   ]
  },
  {
   "cell_type": "code",
   "execution_count": 5,
   "metadata": {},
   "outputs": [
    {
     "data": {
      "text/plain": [
       "{'status': 'ok',\n",
       " 'totalResults': 8795,\n",
       " 'articles': [{'source': {'id': 'the-verge', 'name': 'The Verge'},\n",
       "   'author': 'Richard Lawler',\n",
       "   'title': 'A fake press release claiming Kroger accepts crypto reached the retailer’s own webpage',\n",
       "   'description': 'A crypto hoax claimed Kroger is accepting Bitcoin Cash. The fake press release was similar to one targeting Walmart earlier this year. The retailer quickly confirmed it’s fake, but not before the cryptocurrency’s price spiked by $30.',\n",
       "   'url': 'https://www.theverge.com/2021/11/5/22765098/kroger-bitcoin-cash-cryptocurrency-hoax-pump-dump',\n",
       "   'urlToImage': 'https://cdn.vox-cdn.com/thumbor/CKp0YjnwF88--mWg1kfPmspvfzY=/0x358:5000x2976/fit-in/1200x630/cdn.vox-cdn.com/uploads/chorus_asset/file/22988084/1234440443.jpg',\n",
       "   'publishedAt': '2021-11-05T13:32:14Z',\n",
       "   'content': 'A similar hoax earlier this year tied Walmart to Litecoin\\r\\nIf you buy something from a Verge link, Vox Media may earn a commission. See our ethics statement.\\r\\nPhoto Illustration by Thiago Prudencio/S… [+1900 chars]'},\n",
       "  {'source': {'id': None, 'name': 'Gizmodo.com'},\n",
       "   'author': 'Molly Taft',\n",
       "   'title': 'Bitcoin Miners Are Gobbling Up U.S. Energy',\n",
       "   'description': 'There’s a big new presence slurping up power from the U.S. grid, and it’s growing: bitcoin miners. New research shows that the U.S. has overtaken China as the top global destination for bitcoin mining and energy use is skyrocketing as a result.Read more...',\n",
       "   'url': 'https://gizmodo.com/bitcoin-miners-are-gobbling-up-u-s-energy-1847956270',\n",
       "   'urlToImage': 'https://i.kinja-img.com/gawker-media/image/upload/c_fill,f_auto,fl_progressive,g_center,h_675,pg_1,q_80,w_1200/2a0e7e1f6d07e6cb21b75677aa6df5f0.jpg',\n",
       "   'publishedAt': '2021-10-28T16:45:00Z',\n",
       "   'content': 'Theres a big new presence slurping up power from the U.S. grid, and its growing: bitcoin miners. New research shows that the U.S. has overtaken China as the top global destination for bitcoin mining … [+3088 chars]'},\n",
       "  {'source': {'id': None, 'name': 'Gizmodo.com'},\n",
       "   'author': 'Tom McKay',\n",
       "   'title': 'Roughly One-Third of Bitcoin Is Controlled by a Small Cabal of Whales, According to New Study',\n",
       "   'description': 'For all the talk of democratizing finance, the vast majority of Bitcoin continues to be owned by a relative handful of investors.Read more...',\n",
       "   'url': 'https://gizmodo.com/roughly-one-third-of-bitcoin-is-controlled-by-a-small-c-1847938047',\n",
       "   'urlToImage': 'https://i.kinja-img.com/gawker-media/image/upload/c_fill,f_auto,fl_progressive,g_center,h_675,pg_1,q_80,w_1200/c5ef49718a8e4104ec3c1c55507c8244.jpg',\n",
       "   'publishedAt': '2021-10-26T18:10:00Z',\n",
       "   'content': 'For all the talk of democratizing finance, the vast majority of Bitcoin continues to be owned by a relative handful of investors.\\r\\nAs flagged by Bloomberg, newly released data by the National Bureau … [+4274 chars]'},\n",
       "  {'source': {'id': None, 'name': 'Entrepreneur'},\n",
       "   'author': 'Entrepreneur Staff',\n",
       "   'title': 'AMC Begins Accepting Crypto',\n",
       "   'description': 'Bitcoin, Ethereum, Bitcoin Cash and Litecoin are accepted.',\n",
       "   'url': 'https://www.entrepreneur.com/article/396981',\n",
       "   'urlToImage': 'https://assets.entrepreneur.com/content/3x2/2000/1636738243-GettyImages-1307671673.jpg',\n",
       "   'publishedAt': '2021-11-12T17:31:23Z',\n",
       "   'content': 'In keeping with a previous announcement, AMC theaters now accept cryptocurrencies as payment for online purchases.\\xa0\\r\\nBitcoin, Ethereum, Bitcoin Cash and Litecoin are accepted.\\xa0\\r\\nPreviously, the compa… [+1036 chars]'},\n",
       "  {'source': {'id': 'reuters', 'name': 'Reuters'},\n",
       "   'author': None,\n",
       "   'title': 'Bitcoin edges off all-time high but momentum for more gains this year seen intact - Reuters',\n",
       "   'description': 'Bitcoin fell slightly in Asian hours on Thursday, a day after marking an all-time high on optimism around the launch of the first U.S. bitcoin futures ETF.',\n",
       "   'url': 'https://www.reuters.com/business/finance/bitcoin-edges-off-all-time-high-momentum-more-gains-this-year-seen-intact-2021-10-21/',\n",
       "   'urlToImage': 'https://www.reuters.com/resizer/oQVnjJsX498T8jA_zabMC414KBs=/1200x628/smart/filters:quality(80)/cloudfront-us-east-2.images.arcpublishing.com/reuters/VB4NPI74TNKYZLB4SQJW74UYPQ.jpg',\n",
       "   'publishedAt': '2021-10-21T03:27:00Z',\n",
       "   'content': 'Representation of cryptocurrency Bitcoin is placed on PC motherboard in this illustration taken, June 29, 2021. REUTERS/Dado Ruvic/IllustrationHONG KONG, Oct 21 (Reuters) - Bitcoin fell slightly in A… [+1642 chars]'},\n",
       "  {'source': {'id': 'reuters', 'name': 'Reuters'},\n",
       "   'author': None,\n",
       "   'title': 'Riding the crypto rollercoaster: Bitcoin nears record high - Reuters',\n",
       "   'description': 'Bitcoin is on the cusp of an all-time high, its latest rally fuelled by the launch of the first U.S. bitcoin futures exchange-traded fund that investors think could make the cryptocurrency accessible for swathes of new investors. <a href=\"/technology/bitcoin-…',\n",
       "   'url': 'https://www.reuters.com/technology/riding-crypto-rollercoaster-bitcoin-nears-record-high-2021-10-20/',\n",
       "   'urlToImage': 'https://www.reuters.com/resizer/dTT3e1T05rswsPG-lqqubNb2TrA=/1200x628/smart/filters:quality(80)/cloudfront-us-east-2.images.arcpublishing.com/reuters/ITNSLRU3KFLP7ABJFCV4MG6BBY.jpg',\n",
       "   'publishedAt': '2021-10-20T09:47:00Z',\n",
       "   'content': 'A representation of the virtual cryptocurrency Bitcoin is seen in this picture illustration taken October 19, 2021. REUTERS/Edgar SuLONDON, Oct 20 (Reuters) - Bitcoin is on the cusp of an all-time hi… [+3260 chars]'},\n",
       "  {'source': {'id': 'reuters', 'name': 'Reuters'},\n",
       "   'author': None,\n",
       "   'title': 'Bitcoin sits below all-time high after U.S. ETF debut - Reuters',\n",
       "   'description': 'Bitcoin  hovered below record levels on Wednesday, the day after the first U.S. bitcoin futures-based exchange-traded fund (ETF) began trading, a development that market participants say is likely to drive investment into the digital asset.',\n",
       "   'url': 'https://www.reuters.com/technology/bitcoin-sits-below-all-time-high-after-us-etf-debut-2021-10-20/',\n",
       "   'urlToImage': 'https://www.reuters.com/resizer/6SrJPhlyYOAq39obh31ZrIvLXUY=/1200x628/smart/filters:quality(80)/cloudfront-us-east-2.images.arcpublishing.com/reuters/DFOD6OBDWJNB3ELM3Y5C2UPAN4.jpg',\n",
       "   'publishedAt': '2021-10-20T04:03:00Z',\n",
       "   'content': 'A representation of the virtual cryptocurrency Bitcoin is seen in this picture illustration taken October 19, 2021. REUTERS/Edgar SuHONG KONG, Oct 20 (Reuters) - Bitcoin hovered below record levels o… [+1954 chars]'},\n",
       "  {'source': {'id': 'reuters', 'name': 'Reuters'},\n",
       "   'author': 'Reuters Editorial',\n",
       "   'title': 'Bitcoin tops $67,000 in record high - Reuters.com',\n",
       "   'description': 'Bitcoin climbed to a record high on Wednesday amid new interest as the first U.S. bitcoin futures-based exchange-traded funds come to market.  Conway G. Gittens has more.',\n",
       "   'url': 'https://www.reuters.com/video/watch/idOVEZYY6Q3',\n",
       "   'urlToImage': 'https://static.reuters.com/resources/r/?d=20211020&i=OVEZYY6Q3&r=OVEZYY6Q3&t=2',\n",
       "   'publishedAt': '2021-10-20T21:23:09Z',\n",
       "   'content': 'Posted \\r\\nBitcoin climbed to a record high on Wednesday amid new interest as the first U.S. bitcoin futures-based exchange-traded funds come to market. Conway G. Gittens has more.'},\n",
       "  {'source': {'id': 'reuters', 'name': 'Reuters'},\n",
       "   'author': None,\n",
       "   'title': 'Bitcoin nears record high ahead of futures ETF listing - Reuters',\n",
       "   'description': 'Bitcoin hit a six-month high and was within striking distance of a record on Tuesday as traders bet an anticipated listing of a futures-based U.S. exchange traded fund could herald investment flows into bitcoin and cryptocurrency assets.',\n",
       "   'url': 'https://www.reuters.com/technology/bitcoin-nears-record-high-ahead-futures-etf-listing-2021-10-19/',\n",
       "   'urlToImage': 'https://www.reuters.com/resizer/jm8iK4NjlOkVWrOxCph3jw36h4A=/1200x628/smart/filters:quality(80)/cloudfront-us-east-2.images.arcpublishing.com/reuters/IXILJWRYJZMRTBHUYL3KXS4KSA.jpg',\n",
       "   'publishedAt': '2021-10-19T07:06:00Z',\n",
       "   'content': 'A representation of the virtual cryptocurrency Bitcoin is seen in this picture illustration taken October 18, 2021. REUTERS/Edgar SuSINGAPORE, Oct 19 (Reuters) - Bitcoin hit a six-month high and was … [+2332 chars]'},\n",
       "  {'source': {'id': 'reuters', 'name': 'Reuters'},\n",
       "   'author': 'Reuters Staff',\n",
       "   'title': 'Bitcoin nears record high ahead of futures ETF listing - Reuters',\n",
       "   'description': 'Bitcoin hit a six-month high and was within striking distance of a record on Tuesday as traders bet an anticipated listing of a futures-based U.S. exchange traded fund could herald investment flows into bitcoin and cryptocurrency assets.',\n",
       "   'url': 'https://www.reuters.com/article/fintech-crypto-bitcoin-idUSKBN2H90JX',\n",
       "   'urlToImage': 'https://static.reuters.com/resources/r/?m=02&d=20211019&t=2&i=1578273178&r=LYNXMPEH9I09A&w=800',\n",
       "   'publishedAt': '2021-10-19T07:02:00Z',\n",
       "   'content': 'By Reuters Staff\\r\\nSINGAPORE (Reuters) - Bitcoin hit a six-month high and was within striking distance of a record on Tuesday as traders bet an anticipated listing of a futures-based U.S. exchange tra… [+2206 chars]'},\n",
       "  {'source': {'id': 'business-insider', 'name': 'Business Insider'},\n",
       "   'author': 'insider@insider.com (Carla Mozée)',\n",
       "   'title': 'The first-ever bitcoin ETF will start trading on Tuesday',\n",
       "   'description': 'The arrival of the bitcoin-futures ETF comes as bitcoin this year has moved above $1 trillion in market capitalization.',\n",
       "   'url': 'https://markets.businessinsider.com/news/currencies/proshares-bitcoin-strategy-etf-bito-nyse-first-futures-fund-launch-2021-10',\n",
       "   'urlToImage': 'https://images2.markets.businessinsider.com/614c8e67c2c9630018f5f51e?format=jpeg',\n",
       "   'publishedAt': '2021-10-18T13:53:14Z',\n",
       "   'content': 'STR/NurPhoto via Getty Images\\r\\nThe first-ever bitcoin-linked exchange-traded fund will begin trading on Tuesday, the provider ProShares said in a statement. The launch will mark another milestone in … [+1567 chars]'},\n",
       "  {'source': {'id': 'business-insider', 'name': 'Business Insider'},\n",
       "   'author': 'insider@insider.com (Carla Mozée)',\n",
       "   'title': \"SEC punts on approving a spot bitcoin ETF again, pushing decision on Valkyrie's fund to 2022\",\n",
       "   'description': 'While investors wait for word on a spot bitcoin ETF, the SEC has let bitcoin futures ETFs launch.',\n",
       "   'url': 'https://markets.businessinsider.com/news/currencies/spot-bitcoin-etf-sec-decision-delay-valkyrie-fund-cryptocurrency-gensler-2021-11',\n",
       "   'urlToImage': 'https://images2.markets.businessinsider.com/60fb0c8f0729770012b9a811?format=jpeg',\n",
       "   'publishedAt': '2021-11-02T13:39:41Z',\n",
       "   'content': \"Bitcoin artwork displayed at the Bitcoin 2021 convention.\\r\\nMarco Bello/Getty Images\\r\\nThe Securities and Exchange Commission will not make a decision on alternative asset management firm Valkyrie's pr… [+1492 chars]\"},\n",
       "  {'source': {'id': 'reuters', 'name': 'Reuters'},\n",
       "   'author': 'Gertrude Chavez-Dreyfuss',\n",
       "   'title': 'ANALYSIS-Bitcoin futures highlight some pitfalls for new ETFs - Reuters',\n",
       "   'description': 'ANALYSIS-Bitcoin futures highlight some pitfalls for new ETFs\\xa0\\xa0Reuters',\n",
       "   'url': 'https://www.reuters.com/article/fintech-crypto-bitcoin-etf-idUSL1N2RB1ZQ',\n",
       "   'urlToImage': 'https://s1.reutersmedia.net/resources_v2/images/rcom-default.png?w=800',\n",
       "   'publishedAt': '2021-10-19T11:02:00Z',\n",
       "   'content': '* Cryotocurrency gets boost from ETF bitcoin futures launch\\r\\n* ETF bitcoins may have higher costs Vs buying of actual cryptos\\r\\n* But benefits of owning ETFs lauded by many despite some risks\\r\\n* Tuesd… [+4583 chars]'},\n",
       "  {'source': {'id': 'business-insider', 'name': 'Business Insider'},\n",
       "   'author': 'mfox@businessinsider.com (Matthew Fox)',\n",
       "   'title': 'An ethereum futures ETF will be available before one that holds bitcoin directly - and approval could come in the 1st quarter of 2022, Bloomberg analysts say',\n",
       "   'description': '\"Though a spot Bitcoin ETF is possible in 2022, SEC approval may take longer due to concerns about regulation in the underlying bitcoin market.\"',\n",
       "   'url': 'https://markets.businessinsider.com/news/currencies/ethereum-futures-etf-available-before-bitcoin-spot-fund-crypto-btc-2021-11',\n",
       "   'urlToImage': 'https://images2.markets.businessinsider.com/612f799b9ef1e50018f91d2d?format=jpeg',\n",
       "   'publishedAt': '2021-11-06T12:15:00Z',\n",
       "   'content': 'Ether.\\r\\nNurPhoto\\r\\n<ul><li>The approval of a bitcoin futures-based ETF means a similar offering for ether is imminent.</li><li>Bloomberg analysts believe the first ether futures-based ETF could launch… [+1931 chars]'},\n",
       "  {'source': {'id': 'business-insider', 'name': 'Business Insider'},\n",
       "   'author': 'ilee@insider.com (Isabelle Lee)',\n",
       "   'title': 'Bitcoin extends climb above $60,000 threshold on imminent ETF approval',\n",
       "   'description': 'Bitcoin rose as much as 5.5% on Monday to $62,667, according to Bloomberg data. ProShares said its bitcoin futures ETF will start trading Tuesday.',\n",
       "   'url': 'https://markets.businessinsider.com/news/currencies/bitcoin-price-today-etf-approval-60000-outlook-btc-futures-crypto-2021-10',\n",
       "   'urlToImage': 'https://images2.markets.businessinsider.com/616d632838c1960018304e5f?format=jpeg',\n",
       "   'publishedAt': '2021-10-18T13:09:44Z',\n",
       "   'content': 'Bitcoin seen on display.\\r\\nRafael Henrique/SOPA Images/LightRocket via Getty Images\\r\\nBitcoin is extending its recent ascent to test a new price record as crypto \"hodlers\" cheer a futures exchange-trad… [+2812 chars]'},\n",
       "  {'source': {'id': None, 'name': 'Entrepreneur'},\n",
       "   'author': 'Entrepreneur Staff',\n",
       "   'title': 'Bitcoin Trades 7% Higher',\n",
       "   'description': 'Bitcoin was trading over 7% higher on Monday morning, priced around $66,105 per coin.',\n",
       "   'url': 'https://www.entrepreneur.com/article/395938',\n",
       "   'urlToImage': 'https://assets.entrepreneur.com/content/3x2/2000/1636387582-GettyImages-1297465792.jpg',\n",
       "   'publishedAt': '2021-11-08T16:07:45Z',\n",
       "   'content': 'Bitcoin was trading over 7% higher on Monday morning, priced around $66,105 per coin.\\r\\nEther, was trading over 3% higher, priced at $4,722.\\r\\nDogecoin, meanwhile, was up over 9%, trading at a little o… [+756 chars]'},\n",
       "  {'source': {'id': 'reuters', 'name': 'Reuters'},\n",
       "   'author': None,\n",
       "   'title': 'Volaris in El Salvador set to accept bitcoin - Reuters',\n",
       "   'description': 'Low-cost airline Volaris will accept bitcoin in El Salvador, Salvadoran President Nayib Bukele said Tuesday.',\n",
       "   'url': 'https://www.reuters.com/technology/volaris-el-salvador-set-accept-bitcoin-2021-10-19/',\n",
       "   'urlToImage': 'https://www.reuters.com/resizer/fotv0jL-Xq21RTGh_JUohIYRIXs=/1200x628/smart/filters:quality(80)/cloudfront-us-east-2.images.arcpublishing.com/reuters/AJFO7O7DXFM4DOIBGPFDA6PLEE.jpg',\n",
       "   'publishedAt': '2021-10-19T19:26:00Z',\n",
       "   'content': 'A passenger (R) talks to an airline employee of the Mexican low-cost air carrier Volaris at Benito Juarez International Airport in Mexico City, Mexico January 10, 2018. Picture taken January 10, 2018… [+1209 chars]'},\n",
       "  {'source': {'id': 'reuters', 'name': 'Reuters'},\n",
       "   'author': 'Tom Westbrook, Gertrude Chavez-Dreyfuss',\n",
       "   'title': 'UPDATE 3-Bitcoin, ether hit all-time highs as momentum accelerates - Reuters',\n",
       "   'description': 'UPDATE 3-Bitcoin, ether hit all-time highs as momentum accelerates\\xa0\\xa0Reuters',\n",
       "   'url': 'https://www.reuters.com/article/fintech-cryptocurrencies-idUSL1N2S017V',\n",
       "   'urlToImage': 'https://s1.reutersmedia.net/resources_v2/images/rcom-default.png?w=800',\n",
       "   'publishedAt': '2021-11-09T15:39:00Z',\n",
       "   'content': '* Bitcoin breaks past $68,000; Ether nears $5k\\r\\n* Both pull back later\\r\\n* CoinGecko puts crypto market cap at more than $3 trillion\\r\\n* Flows surge as momentum runs hot (Adds new comment, updates pric… [+3162 chars]'},\n",
       "  {'source': {'id': 'reuters', 'name': 'Reuters'},\n",
       "   'author': 'Reuters Editorial',\n",
       "   'title': 'Bitcoin tops $60,000, nears record high - Reuters',\n",
       "   'description': 'Bitcoin hit $60,000 for the first time in six months on Friday, nearing its record high, as traders grew confident that U.S. regulators would approve the launch of an exchange-traded fund (ETF) based on its futures contracts.',\n",
       "   'url': 'https://www.reuters.com/video/watch/idRCV00AC56',\n",
       "   'urlToImage': 'https://static.reuters.com/resources/r/?d=20211015&i=RCV00AC56&r=RCV00AC56&t=2',\n",
       "   'publishedAt': '2021-10-15T14:45:47Z',\n",
       "   'content': 'Posted \\r\\nBitcoin hit $60,000 for the first time in six months on Friday, nearing its record high, as traders grew confident that U.S. regulators would approve the launch of an exchange-traded fund (E… [+34 chars]'},\n",
       "  {'source': {'id': None, 'name': 'BeInCrypto'},\n",
       "   'author': 'David Thomas',\n",
       "   'title': 'SEC Finally Greenlights Bitcoin Futures ETF With ProShares Bitcoin Strategy ETF',\n",
       "   'description': 'Friday, October 16 saw the approval of a bitcoin exchange-traded fund (ETF), marking it the first regulated cryptocurrency investment vehicle in the U.S. to go mainstream.',\n",
       "   'url': 'https://beincrypto.com/sec-finally-greenlights-bitcoin-futures-etf-with-proshares-bitcoin-strategy-etf/',\n",
       "   'urlToImage': 'https://assets.entrepreneur.com/providers/be-in-crypto/hero-image-be-in-crypto-391640.jpeg',\n",
       "   'publishedAt': '2021-10-16T12:09:11Z',\n",
       "   'content': 'Friday, October 16 saw the approval of a bitcoin exchange-traded fund (ETF), marking it the first regulated cryptocurrency investment vehicle in the U.S. to go mainstream.\\r\\nProShares is likely the co… [+2215 chars]'}]}"
      ]
     },
     "execution_count": 5,
     "metadata": {},
     "output_type": "execute_result"
    }
   ],
   "source": [
    "# Fetch the Bitcoin news articles\n",
    "btc_headlines = newsapi.get_everything(q='Bitcoin',language=\"en\")\n",
    "btc_headlines"
   ]
  },
  {
   "cell_type": "code",
   "execution_count": 6,
   "metadata": {},
   "outputs": [
    {
     "data": {
      "text/plain": [
       "{'status': 'ok',\n",
       " 'totalResults': 3101,\n",
       " 'articles': [{'source': {'id': None, 'name': 'Blogspot.com'},\n",
       "   'author': 'noreply@blogger.com (Unknown)',\n",
       "   'title': 'Nervos launches cross-chain bridge to connect Ethereum and Cardano',\n",
       "   'description': 'A new cross-chain bridge is currently connected to Ethereum through a cross-chain bridge, with Cardano and other public chains to come in the future.Nervos\\xa0today announced that the Force Bridge is now live on the mainnet. The Nervos Network is a collection of…',\n",
       "   'url': 'https://techncruncher.blogspot.com/2021/10/nervos-launches-cross-chain-bridge-to.html',\n",
       "   'urlToImage': 'https://blogger.googleusercontent.com/img/a/AVvXsEgPPOybYbMwmsXrgektLx2gAB_TxrtYlXuFMKC9_ufbyBE23UZ7meSKtNO9FgKdDh0FZf-ugBepgc9Iooy6XQ5s4NkDthhSo2pPF-X2A3Aa2mXtZ5KSkUA4QwB7tEzJ8y79T4iN0A7XC-Ac_RdFuEhCDUuirVAvxQH4b_LUtvyto6aM_sFaDt5v39HYnQ=w1200-h630-p-k-no-nu',\n",
       "   'publishedAt': '2021-10-16T18:50:00Z',\n",
       "   'content': 'A new cross-chain bridge is currently connected to Ethereum through a cross-chain bridge, with Cardano and other public chains to come in the future.\\r\\nNervos\\xa0today announced that the Force Bridge is … [+3114 chars]'},\n",
       "  {'source': {'id': None, 'name': 'Entrepreneur'},\n",
       "   'author': 'Entrepreneur Staff',\n",
       "   'title': 'Mark Cuban Heralds Ethereum, Bitcoin',\n",
       "   'description': 'Mark Cuban has some advice for people who are new to investing in cryptocurrency.',\n",
       "   'url': 'https://www.entrepreneur.com/article/391242',\n",
       "   'urlToImage': 'https://assets.entrepreneur.com/content/3x2/2000/1634231415-GettyImages-1234615179.jpg',\n",
       "   'publishedAt': '2021-10-14T17:10:45Z',\n",
       "   'content': 'Mark Cuban has some advice for people who are new to investing in cryptocurrency.\\r\\nAs an investment, I think ethereum has the most upside, he told CNBC Make It Wednesday. Bitcoin, he added, is better… [+1139 chars]'},\n",
       "  {'source': {'id': None, 'name': 'Entrepreneur'},\n",
       "   'author': 'Entrepreneur Staff',\n",
       "   'title': 'AMC Begins Accepting Crypto',\n",
       "   'description': 'Bitcoin, Ethereum, Bitcoin Cash and Litecoin are accepted.',\n",
       "   'url': 'https://www.entrepreneur.com/article/396981',\n",
       "   'urlToImage': 'https://assets.entrepreneur.com/content/3x2/2000/1636738243-GettyImages-1307671673.jpg',\n",
       "   'publishedAt': '2021-11-12T17:31:23Z',\n",
       "   'content': 'In keeping with a previous announcement, AMC theaters now accept cryptocurrencies as payment for online purchases.\\xa0\\r\\nBitcoin, Ethereum, Bitcoin Cash and Litecoin are accepted.\\xa0\\r\\nPreviously, the compa… [+1036 chars]'},\n",
       "  {'source': {'id': 'business-insider', 'name': 'Business Insider'},\n",
       "   'author': 'hrobertson@businessinsider.com (Harry Robertson)',\n",
       "   'title': 'JPMorgan says ethereum is a better bet than bitcoin as interest rates rise, due to the boom in DeFi and NFTs',\n",
       "   'description': \"Ethereum is the more resilient cryptocurrency because it has more use cases, JPMorgan's analysts said.\",\n",
       "   'url': 'https://markets.businessinsider.com/news/currencies/ethereum-ether-bitcoin-crypto-defi-nfts-interest-rates-gold-jpmorgan-2021-11',\n",
       "   'urlToImage': 'https://images2.markets.businessinsider.com/618519e023745d0018252bf9?format=jpeg',\n",
       "   'publishedAt': '2021-11-05T12:06:22Z',\n",
       "   'content': 'Ethereum and bitcoin are the two biggest cryptocurrencies.\\r\\nJordan Mansfield /Getty Images\\r\\nCrypto investors should be holding ethereum rather than bitcoin as interest rates rise, JPMorgan said, beca… [+2957 chars]'},\n",
       "  {'source': {'id': 'business-insider', 'name': 'Business Insider'},\n",
       "   'author': 'prosen@insider.com (Phil Rosen)',\n",
       "   'title': 'A meme coin named after Elon Musk rode the wave of joke cryptocurrencies in October to soar 4,000%',\n",
       "   'description': \"The surge in October pushed the ethereum-based coin's market capitalization from $26 million to $1.19 billion.\",\n",
       "   'url': 'https://markets.businessinsider.com/news/currencies/dogelon-mars-price-history-october-gains-meme-coins-cryptocurrency-2021-11',\n",
       "   'urlToImage': 'https://images2.markets.businessinsider.com/6180167d1037b10018153494?format=jpeg',\n",
       "   'publishedAt': '2021-11-01T16:35:14Z',\n",
       "   'content': 'Elon Musk\\r\\npicture alliance / Getty Images\\r\\nA cryptocurrency named after Elon Musk has shot to the moon with a 3,780% gain in October. \\r\\nDogelon Mars traded at $0.00000229 on November 1, up from $0.0… [+1533 chars]'},\n",
       "  {'source': {'id': 'business-insider', 'name': 'Business Insider'},\n",
       "   'author': 'ilee@insider.com (Isabelle Lee)',\n",
       "   'title': \"Obscure altcoin mana spikes 400% as Facebook's metaverse pivot spurs bet on virtual property token\",\n",
       "   'description': 'The price of Decentraland, whose ticker is mana, peaked at $4.16 on Saturday. The ethereum-based token can be used to pay for virtual plots of land.',\n",
       "   'url': 'https://markets.businessinsider.com/news/currencies/mana-decentraland-altcoin-metaverse-facebook-rebranding-land-ethereum-crypto-2021-11',\n",
       "   'urlToImage': 'https://images2.markets.businessinsider.com/617ff6d31037b10018152a0b?format=jpeg',\n",
       "   'publishedAt': '2021-11-01T15:34:40Z',\n",
       "   'content': \"Cryptocurrency and business continuity line image for business concept.\\r\\nGetty Images\\r\\nLittle-known altcoin mana soared in the past week after Facebook's rebranding pivot sparked renewed interest in … [+1338 chars]\"},\n",
       "  {'source': {'id': 'business-insider', 'name': 'Business Insider'},\n",
       "   'author': 'insider@insider.com (Katie Canales)',\n",
       "   'title': \"Tim Cook says he owns cryptocurrency - but don't expect it at Apple any time soon\",\n",
       "   'description': \"Cook didn't specify which coin he owns, like bitcoin or ethereum, but he said Tuesday that the space is something he's been interested in for a while.\",\n",
       "   'url': 'https://www.businessinsider.com/apple-tim-cook-says-he-owns-cryptocurrency-investment-portfolio-2021-11',\n",
       "   'urlToImage': 'https://i.insider.com/613a6410a30aeb0018b4c93b?width=1200&format=jpeg',\n",
       "   'publishedAt': '2021-11-09T16:19:46Z',\n",
       "   'content': \"Apple CEO Tim Cook said he owns cryptocurrency, though he declined to specify which virtual coin.\\r\\nDuring The New York Times' Dealbook conference Tuesday, the executive said he's been interested in c… [+1451 chars]\"},\n",
       "  {'source': {'id': 'business-insider', 'name': 'Business Insider'},\n",
       "   'author': 'ilee@insider.com (Isabelle Lee)',\n",
       "   'title': 'Coinbase plans to launch its own NFT marketplace by the end of the year as it rides digital asset boom',\n",
       "   'description': 'The initial launch will support ethereum-based ERC-721 and ERC-1155 standards with plans to roll out multichain support after.',\n",
       "   'url': 'https://markets.businessinsider.com/news/currencies/coinbase-nft-marketplace-cryptocurrency-ethereum-solana-digital-asset-token-ftx-2021-10',\n",
       "   'urlToImage': 'https://images2.markets.businessinsider.com/6165933b991f6b0018655430?format=jpeg',\n",
       "   'publishedAt': '2021-10-12T17:00:00Z',\n",
       "   'content': 'Coinbase NFT\\r\\nRobert Nickelsberg/Getty Images\\r\\nCoinbase Global is joining the NFT bandwagon by launching its own marketplace by the end of the year.\\r\\nThe largest cryptocurrency exchange in the US on … [+2112 chars]'},\n",
       "  {'source': {'id': None, 'name': 'Lifehacker.com'},\n",
       "   'author': 'Mike Winters',\n",
       "   'title': 'Why a Crypto Rewards Credit Card Is Probably a Bad Idea',\n",
       "   'description': 'With crypto rewards cards, a small percentage of your purchases can be redeemed for cryptocurrency instead of cash back or points that are redeemable in a rewards portal—that means 1-2% of all purchases will go toward buying cryptocurrency. But just because y…',\n",
       "   'url': 'https://lifehacker.com/why-a-crypto-rewards-credit-card-is-probably-a-bad-idea-1848034042',\n",
       "   'urlToImage': 'https://i.kinja-img.com/gawker-media/image/upload/c_fill,f_auto,fl_progressive,g_center,h_675,pg_1,q_80,w_1200/0da06bac4765248246c89186a532f052.jpg',\n",
       "   'publishedAt': '2021-11-10T21:30:00Z',\n",
       "   'content': 'With crypto rewards cards, a small percentage of your purchases can be redeemed for cryptocurrency instead of cash back or points that are redeemable in a rewards portalthat means 1-2% of all purchas… [+3232 chars]'},\n",
       "  {'source': {'id': 'business-insider', 'name': 'Business Insider'},\n",
       "   'author': 'ilee@insider.com (Isabelle Lee)',\n",
       "   'title': 'An ethereum-based ETF may come as soon as this year, but other altcoin funds will have to wait, an expert says',\n",
       "   'description': 'For other altcoin-futures ETFs, the question is if the underlying coins will list on the CME, said Trey Griggs, US CEO of crypto trading firm GSR.',\n",
       "   'url': 'https://markets.businessinsider.com/news/currencies/ethereum-based-etf-bitcoin-futures-proshares-valkyrie-crypto-sec-altcoins-2021-10',\n",
       "   'urlToImage': 'https://images2.markets.businessinsider.com/615c20c81725d20018b7c364?format=jpeg',\n",
       "   'publishedAt': '2021-10-22T12:43:12Z',\n",
       "   'content': 'Bitcoin and Ethereum.\\r\\nNurPhoto / Getty Images\\r\\nIf the blockbuster success of the first-ever bitcoin-futures exchange-traded fund is any indication, the debut of an ethereum-based one may just be as … [+3057 chars]'},\n",
       "  {'source': {'id': 'reuters', 'name': 'Reuters'},\n",
       "   'author': None,\n",
       "   'title': \"Crypto is next fintech battle for India's Gen Z - Reuters\",\n",
       "   'description': 'It’s easier and faster to buy bitcoin, ethereum and dogecoin in India than it is to order a pizza on food-delivery app Zomato <a href=\"https://www.reuters.com/companies/ZOMT.NS\" target=\"_blank\">(ZOMT.NS)</a>. That’s how startups are luring the country’s next …',\n",
       "   'url': 'https://www.reuters.com/breakingviews/crypto-is-next-fintech-battle-indias-gen-z-2021-11-01/',\n",
       "   'urlToImage': 'https://www.reuters.com/resizer/R0kThNKecjyPR4bY9LOkvXVkqmY=/1200x628/smart/filters:quality(80)/cloudfront-us-east-2.images.arcpublishing.com/reuters/VJ4QKVTUCVKMRIHF7LI3LB2RGY.jpg',\n",
       "   'publishedAt': '2021-11-01T03:34:00Z',\n",
       "   'content': 'Representations of cryptocurrencies Bitcoin, Ethereum, DogeCoin, Ripple, Litecoin are placed on PC motherboard in this illustration taken, June 29, 2021. REUTERS/Dado Ruvic/Illustration/File Photo MU… [+3384 chars]'},\n",
       "  {'source': {'id': None, 'name': 'Entrepreneur'},\n",
       "   'author': 'Entrepreneur en Español',\n",
       "   'title': \"Burger King will 'offer' the cryptocurrencies Bitcoin, Dogecoin and Ethereum in its menu\",\n",
       "   'description': 'As reported by the same chain on its website, the jackpot will consist of two million Dogecoin, 200 Ether and (barely) 20 Bitcoin.',\n",
       "   'url': 'https://www.entrepreneur.com/article/394652',\n",
       "   'urlToImage': 'https://assets.entrepreneur.com/content/3x2/2000/1635787926-Capturadepantalla2021-11-01alas111301.jpg',\n",
       "   'publishedAt': '2021-11-01T17:32:42Z',\n",
       "   'content': 'Grill burger chain Burger King announced a partnership with Robinhood to give away Bitcoin , Ethereum and Dogecoin to members of its Royal Perks loyalty program to consumers who spend $ 5 on the rest… [+918 chars]'},\n",
       "  {'source': {'id': 'business-insider', 'name': 'Business Insider'},\n",
       "   'author': 'cshumba@insider.com (Camomile Shumba)',\n",
       "   'title': \"A Gen Z crypto millionaire says ether could overtake bitcoin as the No 1 crypto before mid-2022 - and could 'power the rails' of global finance\",\n",
       "   'description': 'Rahul Rai, a 24-year-old crypto hedge fund founder, believes ether could overtake bitcoin in the next six or so months.',\n",
       "   'url': 'https://markets.businessinsider.com/news/currencies/crypto-outlook-bitcoin-ether-overtake-flippening-2022-defi-etf-nft-2021-11',\n",
       "   'urlToImage': 'https://images2.markets.businessinsider.com/61852d45326b26001834f267?format=jpeg',\n",
       "   'publishedAt': '2021-11-07T17:53:41Z',\n",
       "   'content': 'Rahul Rai, co-head of Market Neutral at BlockTower Capital.\\r\\nRahul Rai\\r\\nCrypto hedge fund manager Rahul Rai believes the market will see ether overtake bitcoin in terms of market capitalization befor… [+3221 chars]'},\n",
       "  {'source': {'id': 'time', 'name': 'Time'},\n",
       "   'author': 'Eric Lam and Crystal Kim / Bloomberg',\n",
       "   'title': 'Ether Rises to a Record High as Use of the Ethereum Blockchain Surges',\n",
       "   'description': 'The digital asset gained as much as 3.5% to $4,403.93 on bullish sentiment surrounding an upgrade to the Ethereum network.',\n",
       "   'url': 'https://time.com/6111700/ether-ethereum-record-high/',\n",
       "   'urlToImage': 'https://api.time.com/wp-content/uploads/2021/10/GettyImages-901948904.jpg?quality=85&w=1200&h=628&crop=1',\n",
       "   'publishedAt': '2021-10-29T04:37:07Z',\n",
       "   'content': 'Ether, the second-largest cryptocurrency, soared to a record above $4,400 Friday on bullish sentiment surrounding an upgrade to the Ethereum network and rival Bitcoin’s recent rally to a high of its … [+1314 chars]'},\n",
       "  {'source': {'id': 'the-next-web', 'name': 'The Next Web'},\n",
       "   'author': 'The Conversation',\n",
       "   'title': 'Ethereum’s upgrade is finally coming — will it overtake Bitcoin?',\n",
       "   'description': 'The world’s second most valuable cryptocurrency, ether, has been touching all-time highs in price ahead of a major upgrade of its underlying platform, ethereum. Ether is currently worth in aggregate just shy of US$500 billion (£363 billion). That’s still slig…',\n",
       "   'url': 'https://thenextweb.com/news/ethereums-upgrade-overtake-bitcoin-syndication',\n",
       "   'urlToImage': 'https://img-cdn.tnwcdn.com/image/hardfork?filter_last=1&fit=1280%2C640&url=https%3A%2F%2Fcdn0.tnwcdn.com%2Fwp-content%2Fblogs.dir%2F1%2Ffiles%2F2021%2F10%2FHFSyndi1.jpg&signature=12df3f6cf27877ccc473e10f824fc24d',\n",
       "   'publishedAt': '2021-10-25T10:24:33Z',\n",
       "   'content': 'The worlds second most valuable cryptocurrency, ether, has been touching all-time highs in price ahead of a major upgrade of its underlying platform, ethereum. Ether is currently worth in aggregate j… [+6755 chars]'},\n",
       "  {'source': {'id': None, 'name': 'Medium'},\n",
       "   'author': None,\n",
       "   'title': 'Ethereum Services Are Centralized',\n",
       "   'description': 'Read writing from Michael Gummelt on Medium. Building http://plato.io. Every day, Michael Gummelt and thousands of other voices read, write, and share important stories on Medium.',\n",
       "   'url': 'https://michaelgummelt.medium.com',\n",
       "   'urlToImage': 'https://miro.medium.com/max/2400/0*obMZJ8j5uO2O8f6u',\n",
       "   'publishedAt': '2021-10-12T19:20:02Z',\n",
       "   'content': 'Ive always been vexed by the question of how to validate a startup idea. While it may be the most well-worn topic in all of startup theory, theres still no consensus on the best way to figure out if … [+351 chars]'},\n",
       "  {'source': {'id': 'reuters', 'name': 'Reuters'},\n",
       "   'author': None,\n",
       "   'title': 'Bitcoin inflows hit record high so far in 2021 -CoinShares data - Reuters',\n",
       "   'description': 'Inflows into bitcoin products and funds have hit a record $6.4 billion so far this year, data from digital asset manager CoinShares showed, as investors bought the cryptocurrency on more widespread government acceptance and positive momentum.',\n",
       "   'url': 'https://www.reuters.com/technology/bitcoin-inflows-hit-record-high-so-far-2021-coinshares-data-2021-11-08/',\n",
       "   'urlToImage': 'https://www.reuters.com/resizer/Zs3QkhXWP8WbC4oUMJ-AeHu0gHc=/1200x628/smart/filters:quality(80)/cloudfront-us-east-2.images.arcpublishing.com/reuters/AHNVTFBYQZMC3P7KLKDEWPZ5RM.jpg',\n",
       "   'publishedAt': '2021-11-08T20:02:00Z',\n",
       "   'content': 'NEW YORK, Nov 8 (Reuters) - Inflows into bitcoin products and funds have hit a record $6.4 billion so far this year, data from digital asset manager CoinShares showed, as investors bought the cryptoc… [+1848 chars]'},\n",
       "  {'source': {'id': None, 'name': 'Slashdot.org'},\n",
       "   'author': 'BeauHD',\n",
       "   'title': \"An NFT Just Sold for $532 Million, But Didn't Really Sell at All\",\n",
       "   'description': 'A white-haired, green-eyed pixelated character known as a CryptoPunk 9998 just sold for more than half a billion U.S. dollars -- or so it appeared -- the latest wild development in the booming non-fungible token space. But the Ethereum blockchain shows the mo…',\n",
       "   'url': 'https://news.slashdot.org/story/21/10/29/2155246/an-nft-just-sold-for-532-million-but-didnt-really-sell-at-all',\n",
       "   'urlToImage': 'https://a.fsdn.com/sd/topics/money_64.png',\n",
       "   'publishedAt': '2021-10-30T15:34:00Z',\n",
       "   'content': 'The process started Thursday at 6:13 p.m. New York time, when someone using an Ethereum address beginning with 0xef76 transferred the CryptoPunk to an address starting with 0x8e39. The process starte… [+1300 chars]'},\n",
       "  {'source': {'id': None, 'name': 'CNET'},\n",
       "   'author': 'Eric Mack',\n",
       "   'title': 'Quentin Tarantino to auction off Pulp Fiction movie secrets as NFTs - CNET',\n",
       "   'description': \"The legendary director is putting parts of the classic flick's original handwritten script on blockchain.\",\n",
       "   'url': 'https://www.cnet.com/news/quentin-tarantino-to-auction-off-pulp-fiction-secrets-as-nfts/',\n",
       "   'urlToImage': 'https://www.cnet.com/a/img/1RcKjcCW3ojPSDawRh5XtLYMFks=/1200x630/2018/12/03/d15ad878-8f3d-4d43-b5d2-bac637635a60/pulp-fiction-uma-thurman.jpg',\n",
       "   'publishedAt': '2021-11-02T17:03:00Z',\n",
       "   'content': 'Now available as an NFT.\\r\\nLionsgate/Miramax\\r\\nNFTs featuring previously unreleased \"secrets\" from Quentin Tarantino\\'s iconic 1994 film Pulp Fiction will be auctioned off in the coming weeks, the filmm… [+1685 chars]'},\n",
       "  {'source': {'id': 'reuters', 'name': 'Reuters'},\n",
       "   'author': None,\n",
       "   'title': 'Bitcoin hits new record as crypto market cap exceeds $3 tln - Reuters',\n",
       "   'description': 'Bitcoin and ether made record peaks in the Asia session on Tuesday as enthusiasm for cryptocurrency adoption and fears about inflation leant support to the asset class.',\n",
       "   'url': 'https://www.reuters.com/technology/bitcoin-hits-new-record-crypto-market-cap-exceeds-3-tln-2021-11-08/',\n",
       "   'urlToImage': 'https://www.reuters.com/resizer/InHvCiSZm4U-VU8bDnCg_6ScF8s=/1200x628/smart/filters:quality(80)/cloudfront-us-east-2.images.arcpublishing.com/reuters/UGHMBKNQAJIUNAN7OCRGXCKYOM.jpg',\n",
       "   'publishedAt': '2021-11-08T23:38:00Z',\n",
       "   'content': 'A representation of the virtual cryptocurrency Ethereum is seen among representations of other cryptocurrencies in this picture illustration taken June 14, 2021. REUTERS/Edgar Su/IllustrationSYDNEY, … [+660 chars]'}]}"
      ]
     },
     "execution_count": 6,
     "metadata": {},
     "output_type": "execute_result"
    }
   ],
   "source": [
    "# Fetch the Ethereum news articles\n",
    "eth_headlines = newsapi.get_everything(q=\"Ethereum\", \n",
    "                                          language=\"en\")\n",
    "eth_headlines"
   ]
  },
  {
   "cell_type": "code",
   "execution_count": 7,
   "metadata": {},
   "outputs": [
    {
     "data": {
      "text/html": [
       "<div>\n",
       "<style scoped>\n",
       "    .dataframe tbody tr th:only-of-type {\n",
       "        vertical-align: middle;\n",
       "    }\n",
       "\n",
       "    .dataframe tbody tr th {\n",
       "        vertical-align: top;\n",
       "    }\n",
       "\n",
       "    .dataframe thead th {\n",
       "        text-align: right;\n",
       "    }\n",
       "</style>\n",
       "<table border=\"1\" class=\"dataframe\">\n",
       "  <thead>\n",
       "    <tr style=\"text-align: right;\">\n",
       "      <th></th>\n",
       "      <th>compound</th>\n",
       "      <th>positive</th>\n",
       "      <th>negative</th>\n",
       "      <th>neutral</th>\n",
       "      <th>text</th>\n",
       "    </tr>\n",
       "  </thead>\n",
       "  <tbody>\n",
       "    <tr>\n",
       "      <th>0</th>\n",
       "      <td>-0.2732</td>\n",
       "      <td>0.000</td>\n",
       "      <td>0.063</td>\n",
       "      <td>0.937</td>\n",
       "      <td>A similar hoax earlier this year tied Walmart ...</td>\n",
       "    </tr>\n",
       "    <tr>\n",
       "      <th>1</th>\n",
       "      <td>0.3612</td>\n",
       "      <td>0.096</td>\n",
       "      <td>0.000</td>\n",
       "      <td>0.904</td>\n",
       "      <td>Theres a big new presence slurping up power fr...</td>\n",
       "    </tr>\n",
       "    <tr>\n",
       "      <th>2</th>\n",
       "      <td>0.0000</td>\n",
       "      <td>0.000</td>\n",
       "      <td>0.000</td>\n",
       "      <td>1.000</td>\n",
       "      <td>For all the talk of democratizing finance, the...</td>\n",
       "    </tr>\n",
       "    <tr>\n",
       "      <th>3</th>\n",
       "      <td>0.5719</td>\n",
       "      <td>0.153</td>\n",
       "      <td>0.000</td>\n",
       "      <td>0.847</td>\n",
       "      <td>In keeping with a previous announcement, AMC t...</td>\n",
       "    </tr>\n",
       "    <tr>\n",
       "      <th>4</th>\n",
       "      <td>0.0000</td>\n",
       "      <td>0.000</td>\n",
       "      <td>0.000</td>\n",
       "      <td>1.000</td>\n",
       "      <td>Representation of cryptocurrency Bitcoin is pl...</td>\n",
       "    </tr>\n",
       "  </tbody>\n",
       "</table>\n",
       "</div>"
      ],
      "text/plain": [
       "   compound  positive  negative  neutral  \\\n",
       "0   -0.2732     0.000     0.063    0.937   \n",
       "1    0.3612     0.096     0.000    0.904   \n",
       "2    0.0000     0.000     0.000    1.000   \n",
       "3    0.5719     0.153     0.000    0.847   \n",
       "4    0.0000     0.000     0.000    1.000   \n",
       "\n",
       "                                                text  \n",
       "0  A similar hoax earlier this year tied Walmart ...  \n",
       "1  Theres a big new presence slurping up power fr...  \n",
       "2  For all the talk of democratizing finance, the...  \n",
       "3  In keeping with a previous announcement, AMC t...  \n",
       "4  Representation of cryptocurrency Bitcoin is pl...  "
      ]
     },
     "execution_count": 7,
     "metadata": {},
     "output_type": "execute_result"
    }
   ],
   "source": [
    "# Create the Bitcoin sentiment scores DataFrame\n",
    "libra_sentiments = []\n",
    "\n",
    "for article in btc_headlines[\"articles\"]:\n",
    "    try:\n",
    "        text = article[\"content\"]\n",
    "        date = article[\"publishedAt\"][:10]\n",
    "        sentiment = analyzer.polarity_scores(text)\n",
    "        compound = sentiment[\"compound\"]\n",
    "        pos = sentiment[\"pos\"]\n",
    "        neu = sentiment[\"neu\"]\n",
    "        neg = sentiment[\"neg\"]\n",
    "        \n",
    "        libra_sentiments.append({\n",
    "            \"compound\": compound,\n",
    "            \"positive\": pos,\n",
    "            \"negative\": neg,\n",
    "            \"neutral\": neu,\n",
    "            \"text\": text\n",
    "            \n",
    "            \n",
    "            \n",
    "        })\n",
    "        \n",
    "    except AttributeError:\n",
    "        pass\n",
    "    \n",
    "# Create DataFrame\n",
    "btc_df = pd.DataFrame(libra_sentiments)\n",
    "\n",
    "# Reorder DataFrame columns\n",
    "cols = [\"compound\", \"positive\", \"negative\", \"neutral\", \"text\"]\n",
    "btc_score_df = btc_df[cols]\n",
    "\n",
    "btc_score_df.head()\n"
   ]
  },
  {
   "cell_type": "code",
   "execution_count": 8,
   "metadata": {},
   "outputs": [
    {
     "data": {
      "text/html": [
       "<div>\n",
       "<style scoped>\n",
       "    .dataframe tbody tr th:only-of-type {\n",
       "        vertical-align: middle;\n",
       "    }\n",
       "\n",
       "    .dataframe tbody tr th {\n",
       "        vertical-align: top;\n",
       "    }\n",
       "\n",
       "    .dataframe thead th {\n",
       "        text-align: right;\n",
       "    }\n",
       "</style>\n",
       "<table border=\"1\" class=\"dataframe\">\n",
       "  <thead>\n",
       "    <tr style=\"text-align: right;\">\n",
       "      <th></th>\n",
       "      <th>compound</th>\n",
       "      <th>positive</th>\n",
       "      <th>negative</th>\n",
       "      <th>neutral</th>\n",
       "      <th>text</th>\n",
       "    </tr>\n",
       "  </thead>\n",
       "  <tbody>\n",
       "    <tr>\n",
       "      <th>0</th>\n",
       "      <td>0.0000</td>\n",
       "      <td>0.000</td>\n",
       "      <td>0.0</td>\n",
       "      <td>1.000</td>\n",
       "      <td>A new cross-chain bridge is currently connecte...</td>\n",
       "    </tr>\n",
       "    <tr>\n",
       "      <th>1</th>\n",
       "      <td>0.0000</td>\n",
       "      <td>0.000</td>\n",
       "      <td>0.0</td>\n",
       "      <td>1.000</td>\n",
       "      <td>Mark Cuban has some advice for people who are ...</td>\n",
       "    </tr>\n",
       "    <tr>\n",
       "      <th>2</th>\n",
       "      <td>0.5719</td>\n",
       "      <td>0.153</td>\n",
       "      <td>0.0</td>\n",
       "      <td>0.847</td>\n",
       "      <td>In keeping with a previous announcement, AMC t...</td>\n",
       "    </tr>\n",
       "    <tr>\n",
       "      <th>3</th>\n",
       "      <td>0.4588</td>\n",
       "      <td>0.094</td>\n",
       "      <td>0.0</td>\n",
       "      <td>0.906</td>\n",
       "      <td>Ethereum and bitcoin are the two biggest crypt...</td>\n",
       "    </tr>\n",
       "    <tr>\n",
       "      <th>4</th>\n",
       "      <td>0.5267</td>\n",
       "      <td>0.093</td>\n",
       "      <td>0.0</td>\n",
       "      <td>0.907</td>\n",
       "      <td>Elon Musk\\r\\npicture alliance / Getty Images\\r...</td>\n",
       "    </tr>\n",
       "  </tbody>\n",
       "</table>\n",
       "</div>"
      ],
      "text/plain": [
       "   compound  positive  negative  neutral  \\\n",
       "0    0.0000     0.000       0.0    1.000   \n",
       "1    0.0000     0.000       0.0    1.000   \n",
       "2    0.5719     0.153       0.0    0.847   \n",
       "3    0.4588     0.094       0.0    0.906   \n",
       "4    0.5267     0.093       0.0    0.907   \n",
       "\n",
       "                                                text  \n",
       "0  A new cross-chain bridge is currently connecte...  \n",
       "1  Mark Cuban has some advice for people who are ...  \n",
       "2  In keeping with a previous announcement, AMC t...  \n",
       "3  Ethereum and bitcoin are the two biggest crypt...  \n",
       "4  Elon Musk\\r\\npicture alliance / Getty Images\\r...  "
      ]
     },
     "execution_count": 8,
     "metadata": {},
     "output_type": "execute_result"
    }
   ],
   "source": [
    "# Create the Ethereum sentiment scores DataFrame\n",
    "\n",
    "libra_sentiments = []\n",
    "\n",
    "for article in eth_headlines[\"articles\"]:\n",
    "    try:\n",
    "        text = article[\"content\"]\n",
    "        date = article[\"publishedAt\"][:10]\n",
    "        sentiment = analyzer.polarity_scores(text)\n",
    "        compound = sentiment[\"compound\"]\n",
    "        pos = sentiment[\"pos\"]\n",
    "        neu = sentiment[\"neu\"]\n",
    "        neg = sentiment[\"neg\"]\n",
    "        \n",
    "        libra_sentiments.append({\n",
    "            \"text\": text,\n",
    "            \"compound\": compound,\n",
    "            \"positive\": pos,\n",
    "            \"negative\": neg,\n",
    "            \"neutral\": neu\n",
    "            \n",
    "        })\n",
    "        \n",
    "    except AttributeError:\n",
    "        pass\n",
    "    \n",
    "# Create DataFrame\n",
    "eth_df = pd.DataFrame(libra_sentiments)\n",
    "\n",
    "# Reorder DataFrame columns\n",
    "cols = [\"compound\", \"positive\", \"negative\", \"neutral\", \"text\"]\n",
    "eth_score_df = eth_df[cols]\n",
    "\n",
    "eth_score_df.head()"
   ]
  },
  {
   "cell_type": "code",
   "execution_count": 9,
   "metadata": {},
   "outputs": [
    {
     "data": {
      "text/html": [
       "<div>\n",
       "<style scoped>\n",
       "    .dataframe tbody tr th:only-of-type {\n",
       "        vertical-align: middle;\n",
       "    }\n",
       "\n",
       "    .dataframe tbody tr th {\n",
       "        vertical-align: top;\n",
       "    }\n",
       "\n",
       "    .dataframe thead th {\n",
       "        text-align: right;\n",
       "    }\n",
       "</style>\n",
       "<table border=\"1\" class=\"dataframe\">\n",
       "  <thead>\n",
       "    <tr style=\"text-align: right;\">\n",
       "      <th></th>\n",
       "      <th>compound</th>\n",
       "      <th>positive</th>\n",
       "      <th>negative</th>\n",
       "      <th>neutral</th>\n",
       "    </tr>\n",
       "  </thead>\n",
       "  <tbody>\n",
       "    <tr>\n",
       "      <th>count</th>\n",
       "      <td>20.000000</td>\n",
       "      <td>20.000000</td>\n",
       "      <td>20.000000</td>\n",
       "      <td>20.000000</td>\n",
       "    </tr>\n",
       "    <tr>\n",
       "      <th>mean</th>\n",
       "      <td>0.220215</td>\n",
       "      <td>0.054550</td>\n",
       "      <td>0.003150</td>\n",
       "      <td>0.942300</td>\n",
       "    </tr>\n",
       "    <tr>\n",
       "      <th>std</th>\n",
       "      <td>0.292918</td>\n",
       "      <td>0.066502</td>\n",
       "      <td>0.014087</td>\n",
       "      <td>0.065262</td>\n",
       "    </tr>\n",
       "    <tr>\n",
       "      <th>min</th>\n",
       "      <td>-0.273200</td>\n",
       "      <td>0.000000</td>\n",
       "      <td>0.000000</td>\n",
       "      <td>0.801000</td>\n",
       "    </tr>\n",
       "    <tr>\n",
       "      <th>25%</th>\n",
       "      <td>0.000000</td>\n",
       "      <td>0.000000</td>\n",
       "      <td>0.000000</td>\n",
       "      <td>0.896500</td>\n",
       "    </tr>\n",
       "    <tr>\n",
       "      <th>50%</th>\n",
       "      <td>0.000000</td>\n",
       "      <td>0.000000</td>\n",
       "      <td>0.000000</td>\n",
       "      <td>0.968500</td>\n",
       "    </tr>\n",
       "    <tr>\n",
       "      <th>75%</th>\n",
       "      <td>0.481000</td>\n",
       "      <td>0.103500</td>\n",
       "      <td>0.000000</td>\n",
       "      <td>1.000000</td>\n",
       "    </tr>\n",
       "    <tr>\n",
       "      <th>max</th>\n",
       "      <td>0.755800</td>\n",
       "      <td>0.199000</td>\n",
       "      <td>0.063000</td>\n",
       "      <td>1.000000</td>\n",
       "    </tr>\n",
       "  </tbody>\n",
       "</table>\n",
       "</div>"
      ],
      "text/plain": [
       "        compound   positive   negative    neutral\n",
       "count  20.000000  20.000000  20.000000  20.000000\n",
       "mean    0.220215   0.054550   0.003150   0.942300\n",
       "std     0.292918   0.066502   0.014087   0.065262\n",
       "min    -0.273200   0.000000   0.000000   0.801000\n",
       "25%     0.000000   0.000000   0.000000   0.896500\n",
       "50%     0.000000   0.000000   0.000000   0.968500\n",
       "75%     0.481000   0.103500   0.000000   1.000000\n",
       "max     0.755800   0.199000   0.063000   1.000000"
      ]
     },
     "execution_count": 9,
     "metadata": {},
     "output_type": "execute_result"
    }
   ],
   "source": [
    "# Describe the Bitcoin Sentiment\n",
    "btc_score_df.describe()"
   ]
  },
  {
   "cell_type": "code",
   "execution_count": 10,
   "metadata": {},
   "outputs": [
    {
     "data": {
      "text/html": [
       "<div>\n",
       "<style scoped>\n",
       "    .dataframe tbody tr th:only-of-type {\n",
       "        vertical-align: middle;\n",
       "    }\n",
       "\n",
       "    .dataframe tbody tr th {\n",
       "        vertical-align: top;\n",
       "    }\n",
       "\n",
       "    .dataframe thead th {\n",
       "        text-align: right;\n",
       "    }\n",
       "</style>\n",
       "<table border=\"1\" class=\"dataframe\">\n",
       "  <thead>\n",
       "    <tr style=\"text-align: right;\">\n",
       "      <th></th>\n",
       "      <th>compound</th>\n",
       "      <th>positive</th>\n",
       "      <th>negative</th>\n",
       "      <th>neutral</th>\n",
       "    </tr>\n",
       "  </thead>\n",
       "  <tbody>\n",
       "    <tr>\n",
       "      <th>count</th>\n",
       "      <td>20.000000</td>\n",
       "      <td>20.000000</td>\n",
       "      <td>20.000000</td>\n",
       "      <td>20.000000</td>\n",
       "    </tr>\n",
       "    <tr>\n",
       "      <th>mean</th>\n",
       "      <td>0.314000</td>\n",
       "      <td>0.070450</td>\n",
       "      <td>0.002400</td>\n",
       "      <td>0.927150</td>\n",
       "    </tr>\n",
       "    <tr>\n",
       "      <th>std</th>\n",
       "      <td>0.312362</td>\n",
       "      <td>0.075296</td>\n",
       "      <td>0.010733</td>\n",
       "      <td>0.078527</td>\n",
       "    </tr>\n",
       "    <tr>\n",
       "      <th>min</th>\n",
       "      <td>0.000000</td>\n",
       "      <td>0.000000</td>\n",
       "      <td>0.000000</td>\n",
       "      <td>0.779000</td>\n",
       "    </tr>\n",
       "    <tr>\n",
       "      <th>25%</th>\n",
       "      <td>0.000000</td>\n",
       "      <td>0.000000</td>\n",
       "      <td>0.000000</td>\n",
       "      <td>0.888250</td>\n",
       "    </tr>\n",
       "    <tr>\n",
       "      <th>50%</th>\n",
       "      <td>0.381550</td>\n",
       "      <td>0.074000</td>\n",
       "      <td>0.000000</td>\n",
       "      <td>0.926000</td>\n",
       "    </tr>\n",
       "    <tr>\n",
       "      <th>75%</th>\n",
       "      <td>0.549700</td>\n",
       "      <td>0.110750</td>\n",
       "      <td>0.000000</td>\n",
       "      <td>1.000000</td>\n",
       "    </tr>\n",
       "    <tr>\n",
       "      <th>max</th>\n",
       "      <td>0.822500</td>\n",
       "      <td>0.221000</td>\n",
       "      <td>0.048000</td>\n",
       "      <td>1.000000</td>\n",
       "    </tr>\n",
       "  </tbody>\n",
       "</table>\n",
       "</div>"
      ],
      "text/plain": [
       "        compound   positive   negative    neutral\n",
       "count  20.000000  20.000000  20.000000  20.000000\n",
       "mean    0.314000   0.070450   0.002400   0.927150\n",
       "std     0.312362   0.075296   0.010733   0.078527\n",
       "min     0.000000   0.000000   0.000000   0.779000\n",
       "25%     0.000000   0.000000   0.000000   0.888250\n",
       "50%     0.381550   0.074000   0.000000   0.926000\n",
       "75%     0.549700   0.110750   0.000000   1.000000\n",
       "max     0.822500   0.221000   0.048000   1.000000"
      ]
     },
     "execution_count": 10,
     "metadata": {},
     "output_type": "execute_result"
    }
   ],
   "source": [
    "# Describe the Ethereum Sentiment\n",
    "eth_score_df.describe()"
   ]
  },
  {
   "cell_type": "markdown",
   "metadata": {},
   "source": [
    "### Questions:\n",
    "\n",
    "Q: Which coin had the highest mean positive score?\n",
    "\n",
    "A: Bitcoin\n",
    "\n",
    "Q: Which coin had the highest compound score?\n",
    "\n",
    "A: Ethereum\n",
    "\n",
    "Q. Which coin had the highest positive score?\n",
    "\n",
    "A: Bitcoin"
   ]
  },
  {
   "cell_type": "markdown",
   "metadata": {},
   "source": [
    "---"
   ]
  },
  {
   "cell_type": "markdown",
   "metadata": {},
   "source": [
    "## 2. Natural Language Processing\n",
    "---\n",
    "###   Tokenizer\n",
    "\n",
    "In this section, you will use NLTK and Python to tokenize the text for each coin. Be sure to:\n",
    "1. Lowercase each word.\n",
    "2. Remove Punctuation.\n",
    "3. Remove Stopwords."
   ]
  },
  {
   "cell_type": "code",
   "execution_count": 11,
   "metadata": {},
   "outputs": [
    {
     "name": "stderr",
     "output_type": "stream",
     "text": [
      "[nltk_data] Downloading package reuters to\n",
      "[nltk_data]     /Users/porsheaellis/nltk_data...\n",
      "[nltk_data]   Package reuters is already up-to-date!\n",
      "[nltk_data] Downloading package stopwords to\n",
      "[nltk_data]     /Users/porsheaellis/nltk_data...\n",
      "[nltk_data]   Package stopwords is already up-to-date!\n",
      "[nltk_data] Downloading package punkt to\n",
      "[nltk_data]     /Users/porsheaellis/nltk_data...\n",
      "[nltk_data]   Package punkt is already up-to-date!\n",
      "[nltk_data] Downloading package wordnet to\n",
      "[nltk_data]     /Users/porsheaellis/nltk_data...\n",
      "[nltk_data]   Package wordnet is already up-to-date!\n"
     ]
    },
    {
     "data": {
      "text/plain": [
       "True"
      ]
     },
     "execution_count": 11,
     "metadata": {},
     "output_type": "execute_result"
    }
   ],
   "source": [
    "from nltk.tokenize import word_tokenize, sent_tokenize\n",
    "from nltk.corpus import stopwords\n",
    "from nltk.stem import WordNetLemmatizer, PorterStemmer\n",
    "from string import punctuation\n",
    "import re\n",
    "\n",
    "# Code to download corpora\n",
    "import nltk\n",
    "nltk.download('reuters')\n",
    "nltk.download('stopwords')\n",
    "nltk.download('punkt')\n",
    "nltk.download('wordnet')"
   ]
  },
  {
   "cell_type": "code",
   "execution_count": 12,
   "metadata": {},
   "outputs": [],
   "source": [
    "# Instantiate the lemmatizer\n",
    "lemmatizer = WordNetLemmatizer()\n",
    "\n",
    "# Create a list of stopwords\n",
    "sw = set(stopwords.words('english'))\n",
    "\n",
    "# Expand the default stopwords list if necessary\n",
    "# YOUR CODE HERE!"
   ]
  },
  {
   "cell_type": "code",
   "execution_count": 13,
   "metadata": {},
   "outputs": [],
   "source": [
    "# Complete the tokenizer function\n",
    "def tokenizer(text):\n",
    "    \"\"\"Tokenizes text.\"\"\"\n",
    "    \n",
    "    # Remove the punctuation from text\n",
    "    regex = re.compile(\"[^a-zA-Z ]\")\n",
    "    re_clean = regex.sub('', text)\n",
    "   \n",
    "    # Create a tokenized list of the words\n",
    "    words = word_tokenize(re_clean)\n",
    "    \n",
    "    # Lemmatize words into root words\n",
    "    lem = [lemmatizer.lemmatize(word) for word in words]\n",
    "   \n",
    "    # Convert the words to lowercase\n",
    "    tokens = [word.lower() for word in lem if word.lower() not in sw]\n",
    "    \n",
    "    # Remove the stop words\n",
    "    \n",
    "    \n",
    "    return tokens\n",
    "\n",
    "\n",
    "\n"
   ]
  },
  {
   "cell_type": "code",
   "execution_count": 14,
   "metadata": {},
   "outputs": [
    {
     "data": {
      "text/plain": [
       "['representation',\n",
       " 'virtual',\n",
       " 'cryptocurrency',\n",
       " 'ethereum',\n",
       " 'seen',\n",
       " 'among',\n",
       " 'representation',\n",
       " 'cryptocurrencies',\n",
       " 'picture',\n",
       " 'illustration',\n",
       " 'taken',\n",
       " 'june',\n",
       " 'reutersedgar',\n",
       " 'suillustrationsydney',\n",
       " 'char']"
      ]
     },
     "execution_count": 14,
     "metadata": {},
     "output_type": "execute_result"
    }
   ],
   "source": [
    "# https://realpython.com/nltk-nlp-python/\n",
    "tokenizer(text)"
   ]
  },
  {
   "cell_type": "code",
   "execution_count": 15,
   "metadata": {},
   "outputs": [],
   "source": [
    "# Create a new tokens column for Bitcoin\n",
    "# YOUR CODE HERE!"
   ]
  },
  {
   "cell_type": "code",
   "execution_count": 16,
   "metadata": {},
   "outputs": [],
   "source": [
    "# Create a new tokens column for Ethereum\n",
    "# YOUR CODE HERE!"
   ]
  },
  {
   "cell_type": "markdown",
   "metadata": {},
   "source": [
    "---"
   ]
  },
  {
   "cell_type": "markdown",
   "metadata": {},
   "source": [
    "### NGrams and Frequency Analysis\n",
    "\n",
    "In this section you will look at the ngrams and word frequency for each coin. \n",
    "\n",
    "1. Use NLTK to produce the n-grams for N = 2. \n",
    "2. List the top 10 words for each coin. "
   ]
  },
  {
   "cell_type": "code",
   "execution_count": 17,
   "metadata": {},
   "outputs": [],
   "source": [
    "from collections import Counter\n",
    "from nltk import ngrams"
   ]
  },
  {
   "cell_type": "code",
   "execution_count": 18,
   "metadata": {},
   "outputs": [],
   "source": [
    "# Generate the Bitcoin N-grams where N=2\n",
    "# YOUR CODE HERE!"
   ]
  },
  {
   "cell_type": "code",
   "execution_count": 19,
   "metadata": {},
   "outputs": [],
   "source": [
    "# Generate the Ethereum N-grams where N=2\n",
    "# YOUR CODE HERE!"
   ]
  },
  {
   "cell_type": "code",
   "execution_count": 20,
   "metadata": {},
   "outputs": [],
   "source": [
    "# Function token_count generates the top 10 words for a given coin\n",
    "def token_count(tokens, N=3):\n",
    "    \"\"\"Returns the top N tokens from the frequency count\"\"\"\n",
    "    return Counter(tokens).most_common(N)"
   ]
  },
  {
   "cell_type": "code",
   "execution_count": 21,
   "metadata": {},
   "outputs": [],
   "source": [
    "# Use token_count to get the top 10 words for Bitcoin\n",
    "# YOUR CODE HERE!"
   ]
  },
  {
   "cell_type": "code",
   "execution_count": 22,
   "metadata": {},
   "outputs": [],
   "source": [
    "# Use token_count to get the top 10 words for Ethereum\n",
    "# YOUR CODE HERE!"
   ]
  },
  {
   "cell_type": "markdown",
   "metadata": {},
   "source": [
    "---"
   ]
  },
  {
   "cell_type": "markdown",
   "metadata": {},
   "source": [
    "### Word Clouds\n",
    "\n",
    "In this section, you will generate word clouds for each coin to summarize the news for each coin"
   ]
  },
  {
   "cell_type": "code",
   "execution_count": 23,
   "metadata": {},
   "outputs": [],
   "source": [
    "from wordcloud import WordCloud\n",
    "import matplotlib.pyplot as plt\n",
    "plt.style.use('seaborn-whitegrid')\n",
    "import matplotlib as mpl\n",
    "mpl.rcParams['figure.figsize'] = [20.0, 10.0]"
   ]
  },
  {
   "cell_type": "code",
   "execution_count": 24,
   "metadata": {},
   "outputs": [],
   "source": [
    "# Generate the Bitcoin word cloud\n",
    "# YOUR CODE HERE!"
   ]
  },
  {
   "cell_type": "code",
   "execution_count": 25,
   "metadata": {},
   "outputs": [],
   "source": [
    "# Generate the Ethereum word cloud\n",
    "# YOUR CODE HERE!"
   ]
  },
  {
   "cell_type": "markdown",
   "metadata": {},
   "source": [
    "---\n",
    "## 3. Named Entity Recognition\n",
    "\n",
    "In this section, you will build a named entity recognition model for both Bitcoin and Ethereum, then visualize the tags using SpaCy."
   ]
  },
  {
   "cell_type": "code",
   "execution_count": 26,
   "metadata": {},
   "outputs": [],
   "source": [
    "import spacy\n",
    "from spacy import displacy"
   ]
  },
  {
   "cell_type": "code",
   "execution_count": 27,
   "metadata": {},
   "outputs": [],
   "source": [
    "# Download the language model for SpaCy\n",
    "# !python -m spacy download en_core_web_sm"
   ]
  },
  {
   "cell_type": "code",
   "execution_count": 28,
   "metadata": {},
   "outputs": [
    {
     "ename": "OSError",
     "evalue": "[E050] Can't find model 'en_core_web_sm'. It doesn't seem to be a Python package or a valid path to a data directory.",
     "output_type": "error",
     "traceback": [
      "\u001b[0;31m---------------------------------------------------------------------------\u001b[0m",
      "\u001b[0;31mOSError\u001b[0m                                   Traceback (most recent call last)",
      "\u001b[0;32m<ipython-input-28-298f4788b60f>\u001b[0m in \u001b[0;36m<module>\u001b[0;34m\u001b[0m\n\u001b[1;32m      1\u001b[0m \u001b[0;31m# Load the spaCy model\u001b[0m\u001b[0;34m\u001b[0m\u001b[0;34m\u001b[0m\u001b[0;34m\u001b[0m\u001b[0m\n\u001b[0;32m----> 2\u001b[0;31m \u001b[0mnlp\u001b[0m \u001b[0;34m=\u001b[0m \u001b[0mspacy\u001b[0m\u001b[0;34m.\u001b[0m\u001b[0mload\u001b[0m\u001b[0;34m(\u001b[0m\u001b[0;34m'en_core_web_sm'\u001b[0m\u001b[0;34m)\u001b[0m\u001b[0;34m\u001b[0m\u001b[0;34m\u001b[0m\u001b[0m\n\u001b[0m",
      "\u001b[0;32m~/opt/anaconda3/envs/nlp/lib/python3.7/site-packages/spacy/__init__.py\u001b[0m in \u001b[0;36mload\u001b[0;34m(name, vocab, disable, exclude, config)\u001b[0m\n\u001b[1;32m     50\u001b[0m     \"\"\"\n\u001b[1;32m     51\u001b[0m     return util.load_model(\n\u001b[0;32m---> 52\u001b[0;31m         \u001b[0mname\u001b[0m\u001b[0;34m,\u001b[0m \u001b[0mvocab\u001b[0m\u001b[0;34m=\u001b[0m\u001b[0mvocab\u001b[0m\u001b[0;34m,\u001b[0m \u001b[0mdisable\u001b[0m\u001b[0;34m=\u001b[0m\u001b[0mdisable\u001b[0m\u001b[0;34m,\u001b[0m \u001b[0mexclude\u001b[0m\u001b[0;34m=\u001b[0m\u001b[0mexclude\u001b[0m\u001b[0;34m,\u001b[0m \u001b[0mconfig\u001b[0m\u001b[0;34m=\u001b[0m\u001b[0mconfig\u001b[0m\u001b[0;34m\u001b[0m\u001b[0;34m\u001b[0m\u001b[0m\n\u001b[0m\u001b[1;32m     53\u001b[0m     )\n\u001b[1;32m     54\u001b[0m \u001b[0;34m\u001b[0m\u001b[0m\n",
      "\u001b[0;32m~/opt/anaconda3/envs/nlp/lib/python3.7/site-packages/spacy/util.py\u001b[0m in \u001b[0;36mload_model\u001b[0;34m(name, vocab, disable, exclude, config)\u001b[0m\n\u001b[1;32m    354\u001b[0m     \u001b[0;32mif\u001b[0m \u001b[0mname\u001b[0m \u001b[0;32min\u001b[0m \u001b[0mOLD_MODEL_SHORTCUTS\u001b[0m\u001b[0;34m:\u001b[0m\u001b[0;34m\u001b[0m\u001b[0;34m\u001b[0m\u001b[0m\n\u001b[1;32m    355\u001b[0m         \u001b[0;32mraise\u001b[0m \u001b[0mIOError\u001b[0m\u001b[0;34m(\u001b[0m\u001b[0mErrors\u001b[0m\u001b[0;34m.\u001b[0m\u001b[0mE941\u001b[0m\u001b[0;34m.\u001b[0m\u001b[0mformat\u001b[0m\u001b[0;34m(\u001b[0m\u001b[0mname\u001b[0m\u001b[0;34m=\u001b[0m\u001b[0mname\u001b[0m\u001b[0;34m,\u001b[0m \u001b[0mfull\u001b[0m\u001b[0;34m=\u001b[0m\u001b[0mOLD_MODEL_SHORTCUTS\u001b[0m\u001b[0;34m[\u001b[0m\u001b[0mname\u001b[0m\u001b[0;34m]\u001b[0m\u001b[0;34m)\u001b[0m\u001b[0;34m)\u001b[0m  \u001b[0;31m# type: ignore[index]\u001b[0m\u001b[0;34m\u001b[0m\u001b[0;34m\u001b[0m\u001b[0m\n\u001b[0;32m--> 356\u001b[0;31m     \u001b[0;32mraise\u001b[0m \u001b[0mIOError\u001b[0m\u001b[0;34m(\u001b[0m\u001b[0mErrors\u001b[0m\u001b[0;34m.\u001b[0m\u001b[0mE050\u001b[0m\u001b[0;34m.\u001b[0m\u001b[0mformat\u001b[0m\u001b[0;34m(\u001b[0m\u001b[0mname\u001b[0m\u001b[0;34m=\u001b[0m\u001b[0mname\u001b[0m\u001b[0;34m)\u001b[0m\u001b[0;34m)\u001b[0m\u001b[0;34m\u001b[0m\u001b[0;34m\u001b[0m\u001b[0m\n\u001b[0m\u001b[1;32m    357\u001b[0m \u001b[0;34m\u001b[0m\u001b[0m\n\u001b[1;32m    358\u001b[0m \u001b[0;34m\u001b[0m\u001b[0m\n",
      "\u001b[0;31mOSError\u001b[0m: [E050] Can't find model 'en_core_web_sm'. It doesn't seem to be a Python package or a valid path to a data directory."
     ]
    }
   ],
   "source": [
    "# Load the spaCy model\n",
    "nlp = spacy.load('en_core_web_sm')"
   ]
  },
  {
   "cell_type": "markdown",
   "metadata": {},
   "source": [
    "---\n",
    "### Bitcoin NER"
   ]
  },
  {
   "cell_type": "code",
   "execution_count": null,
   "metadata": {},
   "outputs": [],
   "source": [
    "# Concatenate all of the Bitcoin text together\n",
    "# YOUR CODE HERE!"
   ]
  },
  {
   "cell_type": "code",
   "execution_count": null,
   "metadata": {},
   "outputs": [],
   "source": [
    "# Run the NER processor on all of the text\n",
    "# YOUR CODE HERE!\n",
    "\n",
    "# Add a title to the document\n",
    "# YOUR CODE HERE!"
   ]
  },
  {
   "cell_type": "code",
   "execution_count": null,
   "metadata": {},
   "outputs": [],
   "source": [
    "# Render the visualization\n",
    "# YOUR CODE HERE!"
   ]
  },
  {
   "cell_type": "code",
   "execution_count": null,
   "metadata": {},
   "outputs": [],
   "source": [
    "# List all Entities\n",
    "# YOUR CODE HERE!"
   ]
  },
  {
   "cell_type": "markdown",
   "metadata": {},
   "source": [
    "---"
   ]
  },
  {
   "cell_type": "markdown",
   "metadata": {},
   "source": [
    "### Ethereum NER"
   ]
  },
  {
   "cell_type": "code",
   "execution_count": null,
   "metadata": {},
   "outputs": [],
   "source": [
    "# Concatenate all of the Ethereum text together\n",
    "# YOUR CODE HERE!"
   ]
  },
  {
   "cell_type": "code",
   "execution_count": null,
   "metadata": {},
   "outputs": [],
   "source": [
    "# Run the NER processor on all of the text\n",
    "# YOUR CODE HERE!\n",
    "\n",
    "# Add a title to the document\n",
    "# YOUR CODE HERE!"
   ]
  },
  {
   "cell_type": "code",
   "execution_count": null,
   "metadata": {},
   "outputs": [],
   "source": [
    "# Render the visualization\n",
    "# YOUR CODE HERE!"
   ]
  },
  {
   "cell_type": "code",
   "execution_count": null,
   "metadata": {},
   "outputs": [],
   "source": [
    "# List all Entities\n",
    "# YOUR CODE HERE!"
   ]
  },
  {
   "cell_type": "markdown",
   "metadata": {},
   "source": [
    "---"
   ]
  }
 ],
 "metadata": {
  "file_extension": ".py",
  "kernelspec": {
   "display_name": "Python 3",
   "language": "python",
   "name": "python3"
  },
  "language_info": {
   "codemirror_mode": {
    "name": "ipython",
    "version": 3
   },
   "file_extension": ".py",
   "mimetype": "text/x-python",
   "name": "python",
   "nbconvert_exporter": "python",
   "pygments_lexer": "ipython3",
   "version": "3.7.10"
  },
  "mimetype": "text/x-python",
  "name": "python",
  "npconvert_exporter": "python",
  "pygments_lexer": "ipython3",
  "version": 3
 },
 "nbformat": 4,
 "nbformat_minor": 4
}
